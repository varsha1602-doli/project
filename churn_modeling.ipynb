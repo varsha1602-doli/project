{
 "cells": [
  {
   "cell_type": "code",
   "execution_count": null,
   "id": "e98bc2c4",
   "metadata": {},
   "outputs": [],
   "source": [
    "# churn_modeling.ipynb\n",
    "\n",
    "# ✅ Step 1: Import Required Libraries\n",
    "import pandas as pd\n",
    "from sklearn.model_selection import train_test_split\n",
    "from sklearn.metrics import classification_report\n",
    "import xgboost as xgb\n",
    "import joblib\n",
    "\n",
    "# ✅ Step 2: Load Processed Data\n",
    "df = pd.read_csv(\"../data/processed_data.csv\")  # Adjust path if needed\n",
    "\n",
    "# ✅ Step 3: Split Features and Target\n",
    "X = df.drop(columns=[\"Churn\"])\n",
    "y = df[\"Churn\"]\n",
    "\n",
    "# ✅ Step 4: Split into Training & Test Sets\n",
    "X_train, X_test, y_train, y_test = train_test_split(\n",
    "    X, y, test_size=0.2, random_state=42, stratify=y\n",
    ")\n",
    "\n",
    "# ✅ Step 5: Train XGBoost Model\n",
    "model = xgb.XGBClassifier(use_label_encoder=False, eval_metric=\"logloss\")\n",
    "model.fit(X_train, y_train)\n",
    "\n",
    "# ✅ Step 6: Evaluate Model Performance\n",
    "y_pred = model.predict(X_test)\n",
    "print(\"Classification Report:\")\n",
    "print(classification_report(y_test, y_pred))\n",
    "\n",
    "# ✅ Step 7: Save Trained Model\n",
    "joblib.dump(model, \"../models/churn_model.pkl\")\n",
    "print(\"Model saved to ../models/churn_model.pkl\")\n"
   ]
  }
 ],
 "metadata": {
  "language_info": {
   "name": "python"
  }
 },
 "nbformat": 4,
 "nbformat_minor": 5
}
